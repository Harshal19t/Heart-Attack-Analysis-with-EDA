{
 "cells": [
  {
   "cell_type": "code",
   "execution_count": 1,
   "id": "9fb96c2c",
   "metadata": {
    "_cell_guid": "b1076dfc-b9ad-4769-8c92-a6c4dae69d19",
    "_uuid": "8f2839f25d086af736a60e9eeb907d3b93b6e0e5",
    "execution": {
     "iopub.execute_input": "2024-04-26T06:36:52.156639Z",
     "iopub.status.busy": "2024-04-26T06:36:52.156170Z",
     "iopub.status.idle": "2024-04-26T06:36:54.475523Z",
     "shell.execute_reply": "2024-04-26T06:36:54.474333Z"
    },
    "papermill": {
     "duration": 2.333965,
     "end_time": "2024-04-26T06:36:54.478182",
     "exception": false,
     "start_time": "2024-04-26T06:36:52.144217",
     "status": "completed"
    },
    "tags": []
   },
   "outputs": [
    {
     "name": "stdout",
     "output_type": "stream",
     "text": [
      "/kaggle/input/health-care-data-set-on-heart-attack-possibility/heart.csv\n"
     ]
    }
   ],
   "source": [
    "# This Python 3 environment comes with many helpful analytics libraries installed\n",
    "# It is defined by the kaggle/python Docker image: https://github.com/kaggle/docker-python\n",
    "# For example, here's several helpful packages to load\n",
    "\n",
    "import numpy as np # linear algebra\n",
    "import pandas as pd # data processing, CSV file I/O (e.g. pd.read_csv)\n",
    "import pandas as pd\n",
    "import seaborn as sns\n",
    "import matplotlib.pyplot as plt\n",
    "\n",
    "# Input data files are available in the read-only \"../input/\" directory\n",
    "# For example, running this (by clicking run or pressing Shift+Enter) will list all files under the input directory\n",
    "\n",
    "import os\n",
    "for dirname, _, filenames in os.walk('/kaggle/input'):\n",
    "    for filename in filenames:\n",
    "        print(os.path.join(dirname, filename))\n",
    "\n",
    "# You can write up to 20GB to the current directory (/kaggle/working/) that gets preserved as output when you create a version using \"Save & Run All\" \n",
    "# You can also write temporary files to /kaggle/temp/, but they won't be saved outside of the current session"
   ]
  },
  {
   "cell_type": "code",
   "execution_count": 2,
   "id": "ea2c9e4b",
   "metadata": {
    "execution": {
     "iopub.execute_input": "2024-04-26T06:36:54.500230Z",
     "iopub.status.busy": "2024-04-26T06:36:54.499703Z",
     "iopub.status.idle": "2024-04-26T06:36:54.540693Z",
     "shell.execute_reply": "2024-04-26T06:36:54.539652Z"
    },
    "papermill": {
     "duration": 0.05441,
     "end_time": "2024-04-26T06:36:54.543034",
     "exception": false,
     "start_time": "2024-04-26T06:36:54.488624",
     "status": "completed"
    },
    "tags": []
   },
   "outputs": [
    {
     "data": {
      "text/html": [
       "<div>\n",
       "<style scoped>\n",
       "    .dataframe tbody tr th:only-of-type {\n",
       "        vertical-align: middle;\n",
       "    }\n",
       "\n",
       "    .dataframe tbody tr th {\n",
       "        vertical-align: top;\n",
       "    }\n",
       "\n",
       "    .dataframe thead th {\n",
       "        text-align: right;\n",
       "    }\n",
       "</style>\n",
       "<table border=\"1\" class=\"dataframe\">\n",
       "  <thead>\n",
       "    <tr style=\"text-align: right;\">\n",
       "      <th></th>\n",
       "      <th>age</th>\n",
       "      <th>sex</th>\n",
       "      <th>cp</th>\n",
       "      <th>trestbps</th>\n",
       "      <th>chol</th>\n",
       "      <th>fbs</th>\n",
       "      <th>restecg</th>\n",
       "      <th>thalach</th>\n",
       "      <th>exang</th>\n",
       "      <th>oldpeak</th>\n",
       "      <th>slope</th>\n",
       "      <th>ca</th>\n",
       "      <th>thal</th>\n",
       "      <th>target</th>\n",
       "    </tr>\n",
       "  </thead>\n",
       "  <tbody>\n",
       "    <tr>\n",
       "      <th>0</th>\n",
       "      <td>63</td>\n",
       "      <td>1</td>\n",
       "      <td>3</td>\n",
       "      <td>145</td>\n",
       "      <td>233</td>\n",
       "      <td>1</td>\n",
       "      <td>0</td>\n",
       "      <td>150</td>\n",
       "      <td>0</td>\n",
       "      <td>2.3</td>\n",
       "      <td>0</td>\n",
       "      <td>0</td>\n",
       "      <td>1</td>\n",
       "      <td>1</td>\n",
       "    </tr>\n",
       "    <tr>\n",
       "      <th>1</th>\n",
       "      <td>37</td>\n",
       "      <td>1</td>\n",
       "      <td>2</td>\n",
       "      <td>130</td>\n",
       "      <td>250</td>\n",
       "      <td>0</td>\n",
       "      <td>1</td>\n",
       "      <td>187</td>\n",
       "      <td>0</td>\n",
       "      <td>3.5</td>\n",
       "      <td>0</td>\n",
       "      <td>0</td>\n",
       "      <td>2</td>\n",
       "      <td>1</td>\n",
       "    </tr>\n",
       "    <tr>\n",
       "      <th>2</th>\n",
       "      <td>41</td>\n",
       "      <td>0</td>\n",
       "      <td>1</td>\n",
       "      <td>130</td>\n",
       "      <td>204</td>\n",
       "      <td>0</td>\n",
       "      <td>0</td>\n",
       "      <td>172</td>\n",
       "      <td>0</td>\n",
       "      <td>1.4</td>\n",
       "      <td>2</td>\n",
       "      <td>0</td>\n",
       "      <td>2</td>\n",
       "      <td>1</td>\n",
       "    </tr>\n",
       "    <tr>\n",
       "      <th>3</th>\n",
       "      <td>56</td>\n",
       "      <td>1</td>\n",
       "      <td>1</td>\n",
       "      <td>120</td>\n",
       "      <td>236</td>\n",
       "      <td>0</td>\n",
       "      <td>1</td>\n",
       "      <td>178</td>\n",
       "      <td>0</td>\n",
       "      <td>0.8</td>\n",
       "      <td>2</td>\n",
       "      <td>0</td>\n",
       "      <td>2</td>\n",
       "      <td>1</td>\n",
       "    </tr>\n",
       "    <tr>\n",
       "      <th>4</th>\n",
       "      <td>57</td>\n",
       "      <td>0</td>\n",
       "      <td>0</td>\n",
       "      <td>120</td>\n",
       "      <td>354</td>\n",
       "      <td>0</td>\n",
       "      <td>1</td>\n",
       "      <td>163</td>\n",
       "      <td>1</td>\n",
       "      <td>0.6</td>\n",
       "      <td>2</td>\n",
       "      <td>0</td>\n",
       "      <td>2</td>\n",
       "      <td>1</td>\n",
       "    </tr>\n",
       "    <tr>\n",
       "      <th>...</th>\n",
       "      <td>...</td>\n",
       "      <td>...</td>\n",
       "      <td>...</td>\n",
       "      <td>...</td>\n",
       "      <td>...</td>\n",
       "      <td>...</td>\n",
       "      <td>...</td>\n",
       "      <td>...</td>\n",
       "      <td>...</td>\n",
       "      <td>...</td>\n",
       "      <td>...</td>\n",
       "      <td>...</td>\n",
       "      <td>...</td>\n",
       "      <td>...</td>\n",
       "    </tr>\n",
       "    <tr>\n",
       "      <th>298</th>\n",
       "      <td>57</td>\n",
       "      <td>0</td>\n",
       "      <td>0</td>\n",
       "      <td>140</td>\n",
       "      <td>241</td>\n",
       "      <td>0</td>\n",
       "      <td>1</td>\n",
       "      <td>123</td>\n",
       "      <td>1</td>\n",
       "      <td>0.2</td>\n",
       "      <td>1</td>\n",
       "      <td>0</td>\n",
       "      <td>3</td>\n",
       "      <td>0</td>\n",
       "    </tr>\n",
       "    <tr>\n",
       "      <th>299</th>\n",
       "      <td>45</td>\n",
       "      <td>1</td>\n",
       "      <td>3</td>\n",
       "      <td>110</td>\n",
       "      <td>264</td>\n",
       "      <td>0</td>\n",
       "      <td>1</td>\n",
       "      <td>132</td>\n",
       "      <td>0</td>\n",
       "      <td>1.2</td>\n",
       "      <td>1</td>\n",
       "      <td>0</td>\n",
       "      <td>3</td>\n",
       "      <td>0</td>\n",
       "    </tr>\n",
       "    <tr>\n",
       "      <th>300</th>\n",
       "      <td>68</td>\n",
       "      <td>1</td>\n",
       "      <td>0</td>\n",
       "      <td>144</td>\n",
       "      <td>193</td>\n",
       "      <td>1</td>\n",
       "      <td>1</td>\n",
       "      <td>141</td>\n",
       "      <td>0</td>\n",
       "      <td>3.4</td>\n",
       "      <td>1</td>\n",
       "      <td>2</td>\n",
       "      <td>3</td>\n",
       "      <td>0</td>\n",
       "    </tr>\n",
       "    <tr>\n",
       "      <th>301</th>\n",
       "      <td>57</td>\n",
       "      <td>1</td>\n",
       "      <td>0</td>\n",
       "      <td>130</td>\n",
       "      <td>131</td>\n",
       "      <td>0</td>\n",
       "      <td>1</td>\n",
       "      <td>115</td>\n",
       "      <td>1</td>\n",
       "      <td>1.2</td>\n",
       "      <td>1</td>\n",
       "      <td>1</td>\n",
       "      <td>3</td>\n",
       "      <td>0</td>\n",
       "    </tr>\n",
       "    <tr>\n",
       "      <th>302</th>\n",
       "      <td>57</td>\n",
       "      <td>0</td>\n",
       "      <td>1</td>\n",
       "      <td>130</td>\n",
       "      <td>236</td>\n",
       "      <td>0</td>\n",
       "      <td>0</td>\n",
       "      <td>174</td>\n",
       "      <td>0</td>\n",
       "      <td>0.0</td>\n",
       "      <td>1</td>\n",
       "      <td>1</td>\n",
       "      <td>2</td>\n",
       "      <td>0</td>\n",
       "    </tr>\n",
       "  </tbody>\n",
       "</table>\n",
       "<p>303 rows × 14 columns</p>\n",
       "</div>"
      ],
      "text/plain": [
       "     age  sex  cp  trestbps  chol  fbs  restecg  thalach  exang  oldpeak  \\\n",
       "0     63    1   3       145   233    1        0      150      0      2.3   \n",
       "1     37    1   2       130   250    0        1      187      0      3.5   \n",
       "2     41    0   1       130   204    0        0      172      0      1.4   \n",
       "3     56    1   1       120   236    0        1      178      0      0.8   \n",
       "4     57    0   0       120   354    0        1      163      1      0.6   \n",
       "..   ...  ...  ..       ...   ...  ...      ...      ...    ...      ...   \n",
       "298   57    0   0       140   241    0        1      123      1      0.2   \n",
       "299   45    1   3       110   264    0        1      132      0      1.2   \n",
       "300   68    1   0       144   193    1        1      141      0      3.4   \n",
       "301   57    1   0       130   131    0        1      115      1      1.2   \n",
       "302   57    0   1       130   236    0        0      174      0      0.0   \n",
       "\n",
       "     slope  ca  thal  target  \n",
       "0        0   0     1       1  \n",
       "1        0   0     2       1  \n",
       "2        2   0     2       1  \n",
       "3        2   0     2       1  \n",
       "4        2   0     2       1  \n",
       "..     ...  ..   ...     ...  \n",
       "298      1   0     3       0  \n",
       "299      1   0     3       0  \n",
       "300      1   2     3       0  \n",
       "301      1   1     3       0  \n",
       "302      1   1     2       0  \n",
       "\n",
       "[303 rows x 14 columns]"
      ]
     },
     "execution_count": 2,
     "metadata": {},
     "output_type": "execute_result"
    }
   ],
   "source": [
    "data = pd.read_csv(\"/kaggle/input/health-care-data-set-on-heart-attack-possibility/heart.csv\")\n",
    "data"
   ]
  },
  {
   "cell_type": "code",
   "execution_count": 3,
   "id": "28157a73",
   "metadata": {
    "execution": {
     "iopub.execute_input": "2024-04-26T06:36:54.565878Z",
     "iopub.status.busy": "2024-04-26T06:36:54.564851Z",
     "iopub.status.idle": "2024-04-26T06:36:54.613981Z",
     "shell.execute_reply": "2024-04-26T06:36:54.612769Z"
    },
    "papermill": {
     "duration": 0.062949,
     "end_time": "2024-04-26T06:36:54.616289",
     "exception": false,
     "start_time": "2024-04-26T06:36:54.553340",
     "status": "completed"
    },
    "tags": []
   },
   "outputs": [
    {
     "data": {
      "text/html": [
       "<div>\n",
       "<style scoped>\n",
       "    .dataframe tbody tr th:only-of-type {\n",
       "        vertical-align: middle;\n",
       "    }\n",
       "\n",
       "    .dataframe tbody tr th {\n",
       "        vertical-align: top;\n",
       "    }\n",
       "\n",
       "    .dataframe thead th {\n",
       "        text-align: right;\n",
       "    }\n",
       "</style>\n",
       "<table border=\"1\" class=\"dataframe\">\n",
       "  <thead>\n",
       "    <tr style=\"text-align: right;\">\n",
       "      <th></th>\n",
       "      <th>age</th>\n",
       "      <th>sex</th>\n",
       "      <th>cp</th>\n",
       "      <th>trestbps</th>\n",
       "      <th>chol</th>\n",
       "      <th>fbs</th>\n",
       "      <th>restecg</th>\n",
       "      <th>thalach</th>\n",
       "      <th>exang</th>\n",
       "      <th>oldpeak</th>\n",
       "      <th>slope</th>\n",
       "      <th>ca</th>\n",
       "      <th>thal</th>\n",
       "      <th>target</th>\n",
       "    </tr>\n",
       "  </thead>\n",
       "  <tbody>\n",
       "    <tr>\n",
       "      <th>count</th>\n",
       "      <td>303.000000</td>\n",
       "      <td>303.000000</td>\n",
       "      <td>303.000000</td>\n",
       "      <td>303.000000</td>\n",
       "      <td>303.000000</td>\n",
       "      <td>303.000000</td>\n",
       "      <td>303.000000</td>\n",
       "      <td>303.000000</td>\n",
       "      <td>303.000000</td>\n",
       "      <td>303.000000</td>\n",
       "      <td>303.000000</td>\n",
       "      <td>303.000000</td>\n",
       "      <td>303.000000</td>\n",
       "      <td>303.000000</td>\n",
       "    </tr>\n",
       "    <tr>\n",
       "      <th>mean</th>\n",
       "      <td>54.366337</td>\n",
       "      <td>0.683168</td>\n",
       "      <td>0.966997</td>\n",
       "      <td>131.623762</td>\n",
       "      <td>246.264026</td>\n",
       "      <td>0.148515</td>\n",
       "      <td>0.528053</td>\n",
       "      <td>149.646865</td>\n",
       "      <td>0.326733</td>\n",
       "      <td>1.039604</td>\n",
       "      <td>1.399340</td>\n",
       "      <td>0.729373</td>\n",
       "      <td>2.313531</td>\n",
       "      <td>0.544554</td>\n",
       "    </tr>\n",
       "    <tr>\n",
       "      <th>std</th>\n",
       "      <td>9.082101</td>\n",
       "      <td>0.466011</td>\n",
       "      <td>1.032052</td>\n",
       "      <td>17.538143</td>\n",
       "      <td>51.830751</td>\n",
       "      <td>0.356198</td>\n",
       "      <td>0.525860</td>\n",
       "      <td>22.905161</td>\n",
       "      <td>0.469794</td>\n",
       "      <td>1.161075</td>\n",
       "      <td>0.616226</td>\n",
       "      <td>1.022606</td>\n",
       "      <td>0.612277</td>\n",
       "      <td>0.498835</td>\n",
       "    </tr>\n",
       "    <tr>\n",
       "      <th>min</th>\n",
       "      <td>29.000000</td>\n",
       "      <td>0.000000</td>\n",
       "      <td>0.000000</td>\n",
       "      <td>94.000000</td>\n",
       "      <td>126.000000</td>\n",
       "      <td>0.000000</td>\n",
       "      <td>0.000000</td>\n",
       "      <td>71.000000</td>\n",
       "      <td>0.000000</td>\n",
       "      <td>0.000000</td>\n",
       "      <td>0.000000</td>\n",
       "      <td>0.000000</td>\n",
       "      <td>0.000000</td>\n",
       "      <td>0.000000</td>\n",
       "    </tr>\n",
       "    <tr>\n",
       "      <th>25%</th>\n",
       "      <td>47.500000</td>\n",
       "      <td>0.000000</td>\n",
       "      <td>0.000000</td>\n",
       "      <td>120.000000</td>\n",
       "      <td>211.000000</td>\n",
       "      <td>0.000000</td>\n",
       "      <td>0.000000</td>\n",
       "      <td>133.500000</td>\n",
       "      <td>0.000000</td>\n",
       "      <td>0.000000</td>\n",
       "      <td>1.000000</td>\n",
       "      <td>0.000000</td>\n",
       "      <td>2.000000</td>\n",
       "      <td>0.000000</td>\n",
       "    </tr>\n",
       "    <tr>\n",
       "      <th>50%</th>\n",
       "      <td>55.000000</td>\n",
       "      <td>1.000000</td>\n",
       "      <td>1.000000</td>\n",
       "      <td>130.000000</td>\n",
       "      <td>240.000000</td>\n",
       "      <td>0.000000</td>\n",
       "      <td>1.000000</td>\n",
       "      <td>153.000000</td>\n",
       "      <td>0.000000</td>\n",
       "      <td>0.800000</td>\n",
       "      <td>1.000000</td>\n",
       "      <td>0.000000</td>\n",
       "      <td>2.000000</td>\n",
       "      <td>1.000000</td>\n",
       "    </tr>\n",
       "    <tr>\n",
       "      <th>75%</th>\n",
       "      <td>61.000000</td>\n",
       "      <td>1.000000</td>\n",
       "      <td>2.000000</td>\n",
       "      <td>140.000000</td>\n",
       "      <td>274.500000</td>\n",
       "      <td>0.000000</td>\n",
       "      <td>1.000000</td>\n",
       "      <td>166.000000</td>\n",
       "      <td>1.000000</td>\n",
       "      <td>1.600000</td>\n",
       "      <td>2.000000</td>\n",
       "      <td>1.000000</td>\n",
       "      <td>3.000000</td>\n",
       "      <td>1.000000</td>\n",
       "    </tr>\n",
       "    <tr>\n",
       "      <th>max</th>\n",
       "      <td>77.000000</td>\n",
       "      <td>1.000000</td>\n",
       "      <td>3.000000</td>\n",
       "      <td>200.000000</td>\n",
       "      <td>564.000000</td>\n",
       "      <td>1.000000</td>\n",
       "      <td>2.000000</td>\n",
       "      <td>202.000000</td>\n",
       "      <td>1.000000</td>\n",
       "      <td>6.200000</td>\n",
       "      <td>2.000000</td>\n",
       "      <td>4.000000</td>\n",
       "      <td>3.000000</td>\n",
       "      <td>1.000000</td>\n",
       "    </tr>\n",
       "  </tbody>\n",
       "</table>\n",
       "</div>"
      ],
      "text/plain": [
       "              age         sex          cp    trestbps        chol         fbs  \\\n",
       "count  303.000000  303.000000  303.000000  303.000000  303.000000  303.000000   \n",
       "mean    54.366337    0.683168    0.966997  131.623762  246.264026    0.148515   \n",
       "std      9.082101    0.466011    1.032052   17.538143   51.830751    0.356198   \n",
       "min     29.000000    0.000000    0.000000   94.000000  126.000000    0.000000   \n",
       "25%     47.500000    0.000000    0.000000  120.000000  211.000000    0.000000   \n",
       "50%     55.000000    1.000000    1.000000  130.000000  240.000000    0.000000   \n",
       "75%     61.000000    1.000000    2.000000  140.000000  274.500000    0.000000   \n",
       "max     77.000000    1.000000    3.000000  200.000000  564.000000    1.000000   \n",
       "\n",
       "          restecg     thalach       exang     oldpeak       slope          ca  \\\n",
       "count  303.000000  303.000000  303.000000  303.000000  303.000000  303.000000   \n",
       "mean     0.528053  149.646865    0.326733    1.039604    1.399340    0.729373   \n",
       "std      0.525860   22.905161    0.469794    1.161075    0.616226    1.022606   \n",
       "min      0.000000   71.000000    0.000000    0.000000    0.000000    0.000000   \n",
       "25%      0.000000  133.500000    0.000000    0.000000    1.000000    0.000000   \n",
       "50%      1.000000  153.000000    0.000000    0.800000    1.000000    0.000000   \n",
       "75%      1.000000  166.000000    1.000000    1.600000    2.000000    1.000000   \n",
       "max      2.000000  202.000000    1.000000    6.200000    2.000000    4.000000   \n",
       "\n",
       "             thal      target  \n",
       "count  303.000000  303.000000  \n",
       "mean     2.313531    0.544554  \n",
       "std      0.612277    0.498835  \n",
       "min      0.000000    0.000000  \n",
       "25%      2.000000    0.000000  \n",
       "50%      2.000000    1.000000  \n",
       "75%      3.000000    1.000000  \n",
       "max      3.000000    1.000000  "
      ]
     },
     "execution_count": 3,
     "metadata": {},
     "output_type": "execute_result"
    }
   ],
   "source": [
    "data.describe()"
   ]
  },
  {
   "cell_type": "code",
   "execution_count": 4,
   "id": "b3b80fd9",
   "metadata": {
    "execution": {
     "iopub.execute_input": "2024-04-26T06:36:54.640213Z",
     "iopub.status.busy": "2024-04-26T06:36:54.639836Z",
     "iopub.status.idle": "2024-04-26T06:36:54.648114Z",
     "shell.execute_reply": "2024-04-26T06:36:54.646843Z"
    },
    "papermill": {
     "duration": 0.023723,
     "end_time": "2024-04-26T06:36:54.650609",
     "exception": false,
     "start_time": "2024-04-26T06:36:54.626886",
     "status": "completed"
    },
    "tags": []
   },
   "outputs": [
    {
     "data": {
      "text/plain": [
       "age           int64\n",
       "sex           int64\n",
       "cp            int64\n",
       "trestbps      int64\n",
       "chol          int64\n",
       "fbs           int64\n",
       "restecg       int64\n",
       "thalach       int64\n",
       "exang         int64\n",
       "oldpeak     float64\n",
       "slope         int64\n",
       "ca            int64\n",
       "thal          int64\n",
       "target        int64\n",
       "dtype: object"
      ]
     },
     "execution_count": 4,
     "metadata": {},
     "output_type": "execute_result"
    }
   ],
   "source": [
    "data.dtypes "
   ]
  },
  {
   "cell_type": "code",
   "execution_count": 5,
   "id": "60a61a4a",
   "metadata": {
    "execution": {
     "iopub.execute_input": "2024-04-26T06:36:54.675437Z",
     "iopub.status.busy": "2024-04-26T06:36:54.675030Z",
     "iopub.status.idle": "2024-04-26T06:36:54.683942Z",
     "shell.execute_reply": "2024-04-26T06:36:54.682850Z"
    },
    "papermill": {
     "duration": 0.024772,
     "end_time": "2024-04-26T06:36:54.686463",
     "exception": false,
     "start_time": "2024-04-26T06:36:54.661691",
     "status": "completed"
    },
    "tags": []
   },
   "outputs": [
    {
     "data": {
      "text/plain": [
       "age         False\n",
       "sex         False\n",
       "cp          False\n",
       "trestbps    False\n",
       "chol        False\n",
       "fbs         False\n",
       "restecg     False\n",
       "thalach     False\n",
       "exang       False\n",
       "oldpeak     False\n",
       "slope       False\n",
       "ca          False\n",
       "thal        False\n",
       "target      False\n",
       "dtype: bool"
      ]
     },
     "execution_count": 5,
     "metadata": {},
     "output_type": "execute_result"
    }
   ],
   "source": [
    "data.count().isnull()"
   ]
  },
  {
   "cell_type": "code",
   "execution_count": 6,
   "id": "12d72656",
   "metadata": {
    "execution": {
     "iopub.execute_input": "2024-04-26T06:36:54.710441Z",
     "iopub.status.busy": "2024-04-26T06:36:54.709763Z",
     "iopub.status.idle": "2024-04-26T06:36:54.721949Z",
     "shell.execute_reply": "2024-04-26T06:36:54.720969Z"
    },
    "papermill": {
     "duration": 0.026771,
     "end_time": "2024-04-26T06:36:54.724068",
     "exception": false,
     "start_time": "2024-04-26T06:36:54.697297",
     "status": "completed"
    },
    "tags": []
   },
   "outputs": [
    {
     "data": {
      "text/plain": [
       "age          41\n",
       "sex           2\n",
       "cp            4\n",
       "trestbps     49\n",
       "chol        152\n",
       "fbs           2\n",
       "restecg       3\n",
       "thalach      91\n",
       "exang         2\n",
       "oldpeak      40\n",
       "slope         3\n",
       "ca            5\n",
       "thal          4\n",
       "target        2\n",
       "dtype: int64"
      ]
     },
     "execution_count": 6,
     "metadata": {},
     "output_type": "execute_result"
    }
   ],
   "source": [
    "data.nunique()  #unique"
   ]
  },
  {
   "cell_type": "code",
   "execution_count": 7,
   "id": "272cc9a5",
   "metadata": {
    "execution": {
     "iopub.execute_input": "2024-04-26T06:36:54.747218Z",
     "iopub.status.busy": "2024-04-26T06:36:54.746866Z",
     "iopub.status.idle": "2024-04-26T06:36:54.755647Z",
     "shell.execute_reply": "2024-04-26T06:36:54.754575Z"
    },
    "papermill": {
     "duration": 0.023003,
     "end_time": "2024-04-26T06:36:54.757854",
     "exception": false,
     "start_time": "2024-04-26T06:36:54.734851",
     "status": "completed"
    },
    "tags": []
   },
   "outputs": [],
   "source": [
    "data = data.drop_duplicates() "
   ]
  },
  {
   "cell_type": "code",
   "execution_count": 8,
   "id": "99339395",
   "metadata": {
    "execution": {
     "iopub.execute_input": "2024-04-26T06:36:54.781543Z",
     "iopub.status.busy": "2024-04-26T06:36:54.781166Z",
     "iopub.status.idle": "2024-04-26T06:36:54.787752Z",
     "shell.execute_reply": "2024-04-26T06:36:54.786616Z"
    },
    "papermill": {
     "duration": 0.021176,
     "end_time": "2024-04-26T06:36:54.789944",
     "exception": false,
     "start_time": "2024-04-26T06:36:54.768768",
     "status": "completed"
    },
    "tags": []
   },
   "outputs": [
    {
     "data": {
      "text/plain": [
       "(302, 14)"
      ]
     },
     "execution_count": 8,
     "metadata": {},
     "output_type": "execute_result"
    }
   ],
   "source": [
    "data.shape"
   ]
  },
  {
   "cell_type": "code",
   "execution_count": 9,
   "id": "426c815c",
   "metadata": {
    "execution": {
     "iopub.execute_input": "2024-04-26T06:36:54.814237Z",
     "iopub.status.busy": "2024-04-26T06:36:54.813880Z",
     "iopub.status.idle": "2024-04-26T06:36:55.333643Z",
     "shell.execute_reply": "2024-04-26T06:36:55.332476Z"
    },
    "papermill": {
     "duration": 0.534548,
     "end_time": "2024-04-26T06:36:55.335990",
     "exception": false,
     "start_time": "2024-04-26T06:36:54.801442",
     "status": "completed"
    },
    "tags": []
   },
   "outputs": [
    {
     "data": {
      "text/plain": [
       "<Axes: >"
      ]
     },
     "execution_count": 9,
     "metadata": {},
     "output_type": "execute_result"
    },
    {
     "data": {
      "image/png": "[encoded data removed]",
      "text/plain": [
       "<Figure size 640x480 with 2 Axes>"
      ]
     },
     "metadata": {},
     "output_type": "display_data"
    }
   ],
   "source": [
    "matrix = data.corr().round(2)  #correation matrix\n",
    "sns.heatmap(matrix, annot=False) #it is a heatmap "
   ]
  },
  {
   "cell_type": "code",
   "execution_count": 10,
   "id": "7af3664b",
   "metadata": {
    "execution": {
     "iopub.execute_input": "2024-04-26T06:36:55.361290Z",
     "iopub.status.busy": "2024-04-26T06:36:55.360922Z",
     "iopub.status.idle": "2024-04-26T06:36:55.389456Z",
     "shell.execute_reply": "2024-04-26T06:36:55.388410Z"
    },
    "papermill": {
     "duration": 0.043585,
     "end_time": "2024-04-26T06:36:55.391579",
     "exception": false,
     "start_time": "2024-04-26T06:36:55.347994",
     "status": "completed"
    },
    "tags": []
   },
   "outputs": [
    {
     "data": {
      "text/html": [
       "<div>\n",
       "<style scoped>\n",
       "    .dataframe tbody tr th:only-of-type {\n",
       "        vertical-align: middle;\n",
       "    }\n",
       "\n",
       "    .dataframe tbody tr th {\n",
       "        vertical-align: top;\n",
       "    }\n",
       "\n",
       "    .dataframe thead th {\n",
       "        text-align: right;\n",
       "    }\n",
       "</style>\n",
       "<table border=\"1\" class=\"dataframe\">\n",
       "  <thead>\n",
       "    <tr style=\"text-align: right;\">\n",
       "      <th></th>\n",
       "      <th>age</th>\n",
       "      <th>sex</th>\n",
       "      <th>cp</th>\n",
       "      <th>trestbps</th>\n",
       "      <th>chol</th>\n",
       "      <th>fbs</th>\n",
       "      <th>restecg</th>\n",
       "      <th>thalach</th>\n",
       "      <th>exang</th>\n",
       "      <th>oldpeak</th>\n",
       "      <th>slope</th>\n",
       "      <th>ca</th>\n",
       "      <th>thal</th>\n",
       "      <th>target</th>\n",
       "    </tr>\n",
       "  </thead>\n",
       "  <tbody>\n",
       "    <tr>\n",
       "      <th>age</th>\n",
       "      <td>1.00</td>\n",
       "      <td>-0.09</td>\n",
       "      <td>-0.06</td>\n",
       "      <td>0.28</td>\n",
       "      <td>0.21</td>\n",
       "      <td>0.12</td>\n",
       "      <td>-0.11</td>\n",
       "      <td>-0.40</td>\n",
       "      <td>0.09</td>\n",
       "      <td>0.21</td>\n",
       "      <td>-0.16</td>\n",
       "      <td>0.30</td>\n",
       "      <td>0.07</td>\n",
       "      <td>-0.22</td>\n",
       "    </tr>\n",
       "    <tr>\n",
       "      <th>sex</th>\n",
       "      <td>-0.09</td>\n",
       "      <td>1.00</td>\n",
       "      <td>-0.05</td>\n",
       "      <td>-0.06</td>\n",
       "      <td>-0.20</td>\n",
       "      <td>0.05</td>\n",
       "      <td>-0.06</td>\n",
       "      <td>-0.05</td>\n",
       "      <td>0.14</td>\n",
       "      <td>0.10</td>\n",
       "      <td>-0.03</td>\n",
       "      <td>0.11</td>\n",
       "      <td>0.21</td>\n",
       "      <td>-0.28</td>\n",
       "    </tr>\n",
       "    <tr>\n",
       "      <th>cp</th>\n",
       "      <td>-0.06</td>\n",
       "      <td>-0.05</td>\n",
       "      <td>1.00</td>\n",
       "      <td>0.05</td>\n",
       "      <td>-0.07</td>\n",
       "      <td>0.10</td>\n",
       "      <td>0.04</td>\n",
       "      <td>0.29</td>\n",
       "      <td>-0.39</td>\n",
       "      <td>-0.15</td>\n",
       "      <td>0.12</td>\n",
       "      <td>-0.20</td>\n",
       "      <td>-0.16</td>\n",
       "      <td>0.43</td>\n",
       "    </tr>\n",
       "    <tr>\n",
       "      <th>trestbps</th>\n",
       "      <td>0.28</td>\n",
       "      <td>-0.06</td>\n",
       "      <td>0.05</td>\n",
       "      <td>1.00</td>\n",
       "      <td>0.13</td>\n",
       "      <td>0.18</td>\n",
       "      <td>-0.12</td>\n",
       "      <td>-0.05</td>\n",
       "      <td>0.07</td>\n",
       "      <td>0.19</td>\n",
       "      <td>-0.12</td>\n",
       "      <td>0.10</td>\n",
       "      <td>0.06</td>\n",
       "      <td>-0.15</td>\n",
       "    </tr>\n",
       "    <tr>\n",
       "      <th>chol</th>\n",
       "      <td>0.21</td>\n",
       "      <td>-0.20</td>\n",
       "      <td>-0.07</td>\n",
       "      <td>0.13</td>\n",
       "      <td>1.00</td>\n",
       "      <td>0.01</td>\n",
       "      <td>-0.15</td>\n",
       "      <td>-0.01</td>\n",
       "      <td>0.06</td>\n",
       "      <td>0.05</td>\n",
       "      <td>0.00</td>\n",
       "      <td>0.09</td>\n",
       "      <td>0.10</td>\n",
       "      <td>-0.08</td>\n",
       "    </tr>\n",
       "    <tr>\n",
       "      <th>fbs</th>\n",
       "      <td>0.12</td>\n",
       "      <td>0.05</td>\n",
       "      <td>0.10</td>\n",
       "      <td>0.18</td>\n",
       "      <td>0.01</td>\n",
       "      <td>1.00</td>\n",
       "      <td>-0.08</td>\n",
       "      <td>-0.01</td>\n",
       "      <td>0.02</td>\n",
       "      <td>0.00</td>\n",
       "      <td>-0.06</td>\n",
       "      <td>0.14</td>\n",
       "      <td>-0.03</td>\n",
       "      <td>-0.03</td>\n",
       "    </tr>\n",
       "    <tr>\n",
       "      <th>restecg</th>\n",
       "      <td>-0.11</td>\n",
       "      <td>-0.06</td>\n",
       "      <td>0.04</td>\n",
       "      <td>-0.12</td>\n",
       "      <td>-0.15</td>\n",
       "      <td>-0.08</td>\n",
       "      <td>1.00</td>\n",
       "      <td>0.04</td>\n",
       "      <td>-0.07</td>\n",
       "      <td>-0.06</td>\n",
       "      <td>0.09</td>\n",
       "      <td>-0.08</td>\n",
       "      <td>-0.01</td>\n",
       "      <td>0.13</td>\n",
       "    </tr>\n",
       "    <tr>\n",
       "      <th>thalach</th>\n",
       "      <td>-0.40</td>\n",
       "      <td>-0.05</td>\n",
       "      <td>0.29</td>\n",
       "      <td>-0.05</td>\n",
       "      <td>-0.01</td>\n",
       "      <td>-0.01</td>\n",
       "      <td>0.04</td>\n",
       "      <td>1.00</td>\n",
       "      <td>-0.38</td>\n",
       "      <td>-0.34</td>\n",
       "      <td>0.38</td>\n",
       "      <td>-0.23</td>\n",
       "      <td>-0.09</td>\n",
       "      <td>0.42</td>\n",
       "    </tr>\n",
       "    <tr>\n",
       "      <th>exang</th>\n",
       "      <td>0.09</td>\n",
       "      <td>0.14</td>\n",
       "      <td>-0.39</td>\n",
       "      <td>0.07</td>\n",
       "      <td>0.06</td>\n",
       "      <td>0.02</td>\n",
       "      <td>-0.07</td>\n",
       "      <td>-0.38</td>\n",
       "      <td>1.00</td>\n",
       "      <td>0.29</td>\n",
       "      <td>-0.26</td>\n",
       "      <td>0.13</td>\n",
       "      <td>0.21</td>\n",
       "      <td>-0.44</td>\n",
       "    </tr>\n",
       "    <tr>\n",
       "      <th>oldpeak</th>\n",
       "      <td>0.21</td>\n",
       "      <td>0.10</td>\n",
       "      <td>-0.15</td>\n",
       "      <td>0.19</td>\n",
       "      <td>0.05</td>\n",
       "      <td>0.00</td>\n",
       "      <td>-0.06</td>\n",
       "      <td>-0.34</td>\n",
       "      <td>0.29</td>\n",
       "      <td>1.00</td>\n",
       "      <td>-0.58</td>\n",
       "      <td>0.24</td>\n",
       "      <td>0.21</td>\n",
       "      <td>-0.43</td>\n",
       "    </tr>\n",
       "    <tr>\n",
       "      <th>slope</th>\n",
       "      <td>-0.16</td>\n",
       "      <td>-0.03</td>\n",
       "      <td>0.12</td>\n",
       "      <td>-0.12</td>\n",
       "      <td>0.00</td>\n",
       "      <td>-0.06</td>\n",
       "      <td>0.09</td>\n",
       "      <td>0.38</td>\n",
       "      <td>-0.26</td>\n",
       "      <td>-0.58</td>\n",
       "      <td>1.00</td>\n",
       "      <td>-0.09</td>\n",
       "      <td>-0.10</td>\n",
       "      <td>0.34</td>\n",
       "    </tr>\n",
       "    <tr>\n",
       "      <th>ca</th>\n",
       "      <td>0.30</td>\n",
       "      <td>0.11</td>\n",
       "      <td>-0.20</td>\n",
       "      <td>0.10</td>\n",
       "      <td>0.09</td>\n",
       "      <td>0.14</td>\n",
       "      <td>-0.08</td>\n",
       "      <td>-0.23</td>\n",
       "      <td>0.13</td>\n",
       "      <td>0.24</td>\n",
       "      <td>-0.09</td>\n",
       "      <td>1.00</td>\n",
       "      <td>0.16</td>\n",
       "      <td>-0.41</td>\n",
       "    </tr>\n",
       "    <tr>\n",
       "      <th>thal</th>\n",
       "      <td>0.07</td>\n",
       "      <td>0.21</td>\n",
       "      <td>-0.16</td>\n",
       "      <td>0.06</td>\n",
       "      <td>0.10</td>\n",
       "      <td>-0.03</td>\n",
       "      <td>-0.01</td>\n",
       "      <td>-0.09</td>\n",
       "      <td>0.21</td>\n",
       "      <td>0.21</td>\n",
       "      <td>-0.10</td>\n",
       "      <td>0.16</td>\n",
       "      <td>1.00</td>\n",
       "      <td>-0.34</td>\n",
       "    </tr>\n",
       "    <tr>\n",
       "      <th>target</th>\n",
       "      <td>-0.22</td>\n",
       "      <td>-0.28</td>\n",
       "      <td>0.43</td>\n",
       "      <td>-0.15</td>\n",
       "      <td>-0.08</td>\n",
       "      <td>-0.03</td>\n",
       "      <td>0.13</td>\n",
       "      <td>0.42</td>\n",
       "      <td>-0.44</td>\n",
       "      <td>-0.43</td>\n",
       "      <td>0.34</td>\n",
       "      <td>-0.41</td>\n",
       "      <td>-0.34</td>\n",
       "      <td>1.00</td>\n",
       "    </tr>\n",
       "  </tbody>\n",
       "</table>\n",
       "</div>"
      ],
      "text/plain": [
       "           age   sex    cp  trestbps  chol   fbs  restecg  thalach  exang  \\\n",
       "age       1.00 -0.09 -0.06      0.28  0.21  0.12    -0.11    -0.40   0.09   \n",
       "sex      -0.09  1.00 -0.05     -0.06 -0.20  0.05    -0.06    -0.05   0.14   \n",
       "cp       -0.06 -0.05  1.00      0.05 -0.07  0.10     0.04     0.29  -0.39   \n",
       "trestbps  0.28 -0.06  0.05      1.00  0.13  0.18    -0.12    -0.05   0.07   \n",
       "chol      0.21 -0.20 -0.07      0.13  1.00  0.01    -0.15    -0.01   0.06   \n",
       "fbs       0.12  0.05  0.10      0.18  0.01  1.00    -0.08    -0.01   0.02   \n",
       "restecg  -0.11 -0.06  0.04     -0.12 -0.15 -0.08     1.00     0.04  -0.07   \n",
       "thalach  -0.40 -0.05  0.29     -0.05 -0.01 -0.01     0.04     1.00  -0.38   \n",
       "exang     0.09  0.14 -0.39      0.07  0.06  0.02    -0.07    -0.38   1.00   \n",
       "oldpeak   0.21  0.10 -0.15      0.19  0.05  0.00    -0.06    -0.34   0.29   \n",
       "slope    -0.16 -0.03  0.12     -0.12  0.00 -0.06     0.09     0.38  -0.26   \n",
       "ca        0.30  0.11 -0.20      0.10  0.09  0.14    -0.08    -0.23   0.13   \n",
       "thal      0.07  0.21 -0.16      0.06  0.10 -0.03    -0.01    -0.09   0.21   \n",
       "target   -0.22 -0.28  0.43     -0.15 -0.08 -0.03     0.13     0.42  -0.44   \n",
       "\n",
       "          oldpeak  slope    ca  thal  target  \n",
       "age          0.21  -0.16  0.30  0.07   -0.22  \n",
       "sex          0.10  -0.03  0.11  0.21   -0.28  \n",
       "cp          -0.15   0.12 -0.20 -0.16    0.43  \n",
       "trestbps     0.19  -0.12  0.10  0.06   -0.15  \n",
       "chol         0.05   0.00  0.09  0.10   -0.08  \n",
       "fbs          0.00  -0.06  0.14 -0.03   -0.03  \n",
       "restecg     -0.06   0.09 -0.08 -0.01    0.13  \n",
       "thalach     -0.34   0.38 -0.23 -0.09    0.42  \n",
       "exang        0.29  -0.26  0.13  0.21   -0.44  \n",
       "oldpeak      1.00  -0.58  0.24  0.21   -0.43  \n",
       "slope       -0.58   1.00 -0.09 -0.10    0.34  \n",
       "ca           0.24  -0.09  1.00  0.16   -0.41  \n",
       "thal         0.21  -0.10  0.16  1.00   -0.34  \n",
       "target      -0.43   0.34 -0.41 -0.34    1.00  "
      ]
     },
     "execution_count": 10,
     "metadata": {},
     "output_type": "execute_result"
    }
   ],
   "source": [
    "matrix #compare the value with target == > postive value means best coorelation with target"
   ]
  },
  {
   "cell_type": "markdown",
   "id": "b62de8e7",
   "metadata": {
    "papermill": {
     "duration": 0.011769,
     "end_time": "2024-04-26T06:36:55.415549",
     "exception": false,
     "start_time": "2024-04-26T06:36:55.403780",
     "status": "completed"
    },
    "tags": []
   },
   "source": [
    "# Positive Coorelation with respect to tagert: \n",
    "1. CP = chest pain type (4 values 0,1,2,3)\n",
    "1. restecg\t = resting electrocardiographic results (values 0,1,2)\n",
    "1. thalach = maximum heart rate achieved\n",
    "1. slope = the slope of the peak exercise ST segment"
   ]
  },
  {
   "cell_type": "markdown",
   "id": "91821d22",
   "metadata": {
    "papermill": {
     "duration": 0.012077,
     "end_time": "2024-04-26T06:36:55.439656",
     "exception": false,
     "start_time": "2024-04-26T06:36:55.427579",
     "status": "completed"
    },
    "tags": []
   },
   "source": [
    "# EDA for positive coorelation with respect to Target"
   ]
  },
  {
   "cell_type": "code",
   "execution_count": 11,
   "id": "f79e54e3",
   "metadata": {
    "execution": {
     "iopub.execute_input": "2024-04-26T06:36:55.466860Z",
     "iopub.status.busy": "2024-04-26T06:36:55.466478Z",
     "iopub.status.idle": "2024-04-26T06:36:55.484737Z",
     "shell.execute_reply": "2024-04-26T06:36:55.483616Z"
    },
    "papermill": {
     "duration": 0.03409,
     "end_time": "2024-04-26T06:36:55.486929",
     "exception": false,
     "start_time": "2024-04-26T06:36:55.452839",
     "status": "completed"
    },
    "tags": []
   },
   "outputs": [
    {
     "name": "stdout",
     "output_type": "stream",
     "text": [
      "total number of target of value equals to 0 (not heart attack):  138\n",
      "total number of target of value equals to 1:(heart attack)  164\n"
     ]
    }
   ],
   "source": [
    "count_0 = len(data.loc[data.target == 0].value_counts()) #not heart attack -- number count\n",
    "count_1 = len(data.loc[data.target == 1].value_counts()) # heart attack -- number count\n",
    "print(\"total number of target of value equals to 0 (not heart attack): \",count_0)\n",
    "print(\"total number of target of value equals to 1:(heart attack) \",count_1)"
   ]
  },
  {
   "cell_type": "code",
   "execution_count": 12,
   "id": "4bbe75aa",
   "metadata": {
    "execution": {
     "iopub.execute_input": "2024-04-26T06:36:55.513577Z",
     "iopub.status.busy": "2024-04-26T06:36:55.512471Z",
     "iopub.status.idle": "2024-04-26T06:36:55.530066Z",
     "shell.execute_reply": "2024-04-26T06:36:55.528938Z"
    },
    "papermill": {
     "duration": 0.033222,
     "end_time": "2024-04-26T06:36:55.532328",
     "exception": false,
     "start_time": "2024-04-26T06:36:55.499106",
     "status": "completed"
    },
    "tags": []
   },
   "outputs": [
    {
     "data": {
      "text/html": [
       "<div>\n",
       "<style scoped>\n",
       "    .dataframe tbody tr th:only-of-type {\n",
       "        vertical-align: middle;\n",
       "    }\n",
       "\n",
       "    .dataframe tbody tr th {\n",
       "        vertical-align: top;\n",
       "    }\n",
       "\n",
       "    .dataframe thead th {\n",
       "        text-align: right;\n",
       "    }\n",
       "</style>\n",
       "<table border=\"1\" class=\"dataframe\">\n",
       "  <thead>\n",
       "    <tr style=\"text-align: right;\">\n",
       "      <th></th>\n",
       "      <th>cp</th>\n",
       "      <th>counts</th>\n",
       "    </tr>\n",
       "  </thead>\n",
       "  <tbody>\n",
       "    <tr>\n",
       "      <th>2</th>\n",
       "      <td>0</td>\n",
       "      <td>39</td>\n",
       "    </tr>\n",
       "    <tr>\n",
       "      <th>1</th>\n",
       "      <td>1</td>\n",
       "      <td>41</td>\n",
       "    </tr>\n",
       "    <tr>\n",
       "      <th>0</th>\n",
       "      <td>2</td>\n",
       "      <td>68</td>\n",
       "    </tr>\n",
       "    <tr>\n",
       "      <th>3</th>\n",
       "      <td>3</td>\n",
       "      <td>16</td>\n",
       "    </tr>\n",
       "  </tbody>\n",
       "</table>\n",
       "</div>"
      ],
      "text/plain": [
       "  cp  counts\n",
       "2  0      39\n",
       "1  1      41\n",
       "0  2      68\n",
       "3  3      16"
      ]
     },
     "execution_count": 12,
     "metadata": {},
     "output_type": "execute_result"
    }
   ],
   "source": [
    "df1 = data.loc[data.target == 1] #filter out the data where there is heart attack\n",
    "df11 = df1['cp'].value_counts().rename_axis('cp').reset_index(name='counts').sort_values(by ='cp') #create a dataframe for bar graph\n",
    "df11.cp = df11.cp.astype(str)\n",
    "df11\n",
    "#  the index was sorted in decending order of the count 2:69 1:41 0:39 3:16"
   ]
  },
  {
   "cell_type": "code",
   "execution_count": 13,
   "id": "175852c4",
   "metadata": {
    "execution": {
     "iopub.execute_input": "2024-04-26T06:36:55.559212Z",
     "iopub.status.busy": "2024-04-26T06:36:55.558342Z",
     "iopub.status.idle": "2024-04-26T06:36:55.783184Z",
     "shell.execute_reply": "2024-04-26T06:36:55.782074Z"
    },
    "papermill": {
     "duration": 0.241102,
     "end_time": "2024-04-26T06:36:55.785720",
     "exception": false,
     "start_time": "2024-04-26T06:36:55.544618",
     "status": "completed"
    },
    "tags": []
   },
   "outputs": [
    {
     "data": {
      "image/png": "[encoded data removed]",
      "text/plain": [
       "<Figure size 640x480 with 1 Axes>"
      ]
     },
     "metadata": {},
     "output_type": "display_data"
    }
   ],
   "source": [
    "df11.plot(x=\"cp\", y='counts', kind='bar')\n",
    "plt.xlabel('Chest Pain Type')\n",
    "plt.ylabel('Number of people')\n",
    "plt.title('Count of chest pain where people have suffered heart attack')\n",
    "plt.show()"
   ]
  },
  {
   "cell_type": "markdown",
   "id": "de407cdf",
   "metadata": {
    "papermill": {
     "duration": 0.013113,
     "end_time": "2024-04-26T06:36:55.812035",
     "exception": false,
     "start_time": "2024-04-26T06:36:55.798922",
     "status": "completed"
    },
    "tags": []
   },
   "source": [
    "# Chest Pain Type vs Target\n",
    "1. Based on this we can say that, person with type 2 chest pain has more chances of getting a heart attack in future.\n",
    "2. Pain 3 is the lowest. Here we are not sure what are these categorical values symbolize but based on the analysis we concluded this whole hypothesis."
   ]
  },
  {
   "cell_type": "code",
   "execution_count": 14,
   "id": "556c6fc9",
   "metadata": {
    "execution": {
     "iopub.execute_input": "2024-04-26T06:36:55.839886Z",
     "iopub.status.busy": "2024-04-26T06:36:55.839490Z",
     "iopub.status.idle": "2024-04-26T06:36:55.852753Z",
     "shell.execute_reply": "2024-04-26T06:36:55.851667Z"
    },
    "papermill": {
     "duration": 0.029943,
     "end_time": "2024-04-26T06:36:55.854825",
     "exception": false,
     "start_time": "2024-04-26T06:36:55.824882",
     "status": "completed"
    },
    "tags": []
   },
   "outputs": [
    {
     "data": {
      "text/html": [
       "<div>\n",
       "<style scoped>\n",
       "    .dataframe tbody tr th:only-of-type {\n",
       "        vertical-align: middle;\n",
       "    }\n",
       "\n",
       "    .dataframe tbody tr th {\n",
       "        vertical-align: top;\n",
       "    }\n",
       "\n",
       "    .dataframe thead th {\n",
       "        text-align: right;\n",
       "    }\n",
       "</style>\n",
       "<table border=\"1\" class=\"dataframe\">\n",
       "  <thead>\n",
       "    <tr style=\"text-align: right;\">\n",
       "      <th></th>\n",
       "      <th>restecg</th>\n",
       "      <th>counts</th>\n",
       "    </tr>\n",
       "  </thead>\n",
       "  <tbody>\n",
       "    <tr>\n",
       "      <th>1</th>\n",
       "      <td>0</td>\n",
       "      <td>68</td>\n",
       "    </tr>\n",
       "    <tr>\n",
       "      <th>0</th>\n",
       "      <td>1</td>\n",
       "      <td>95</td>\n",
       "    </tr>\n",
       "    <tr>\n",
       "      <th>2</th>\n",
       "      <td>2</td>\n",
       "      <td>1</td>\n",
       "    </tr>\n",
       "  </tbody>\n",
       "</table>\n",
       "</div>"
      ],
      "text/plain": [
       "   restecg  counts\n",
       "1        0      68\n",
       "0        1      95\n",
       "2        2       1"
      ]
     },
     "execution_count": 14,
     "metadata": {},
     "output_type": "execute_result"
    }
   ],
   "source": [
    "df2 = data.loc[data.target == 1]\n",
    "df22 = df2['restecg'].value_counts().rename_axis('restecg').reset_index(name='counts').sort_values(by ='restecg')\n",
    "# df22.restecg = df11.restecg.astype(str)\n",
    "df22\n",
    "#same thing"
   ]
  },
  {
   "cell_type": "code",
   "execution_count": 15,
   "id": "b55bd290",
   "metadata": {
    "execution": {
     "iopub.execute_input": "2024-04-26T06:36:55.883064Z",
     "iopub.status.busy": "2024-04-26T06:36:55.882152Z",
     "iopub.status.idle": "2024-04-26T06:36:56.111982Z",
     "shell.execute_reply": "2024-04-26T06:36:56.110869Z"
    },
    "papermill": {
     "duration": 0.246394,
     "end_time": "2024-04-26T06:36:56.114292",
     "exception": false,
     "start_time": "2024-04-26T06:36:55.867898",
     "status": "completed"
    },
    "tags": []
   },
   "outputs": [
    {
     "data": {
      "image/png": "[encoded data removed]",
      "text/plain": [
       "<Figure size 640x480 with 1 Axes>"
      ]
     },
     "metadata": {},
     "output_type": "display_data"
    }
   ],
   "source": [
    "df22.plot(x=\"restecg\", y='counts', kind='bar')\n",
    "plt.xlabel('ECG results')\n",
    "plt.ylabel('Number of people')\n",
    "plt.title('Count of ECGs when people are suffering from heart attack')\n",
    "plt.show()"
   ]
  },
  {
   "cell_type": "markdown",
   "id": "ba560169",
   "metadata": {
    "papermill": {
     "duration": 0.014801,
     "end_time": "2024-04-26T06:36:56.143151",
     "exception": false,
     "start_time": "2024-04-26T06:36:56.128350",
     "status": "completed"
    },
    "tags": []
   },
   "source": [
    "# Resting Electro Cardiographic Results vs Target\n",
    "1. ECG result - 1 is more related with Target compare to 2nd ECG result\n",
    "2. ECG result - 2 provides less posibilty of having a heart attack"
   ]
  },
  {
   "cell_type": "code",
   "execution_count": 16,
   "id": "316cb15b",
   "metadata": {
    "execution": {
     "iopub.execute_input": "2024-04-26T06:36:56.172894Z",
     "iopub.status.busy": "2024-04-26T06:36:56.172518Z",
     "iopub.status.idle": "2024-04-26T06:36:56.179337Z",
     "shell.execute_reply": "2024-04-26T06:36:56.178308Z"
    },
    "papermill": {
     "duration": 0.024415,
     "end_time": "2024-04-26T06:36:56.181482",
     "exception": false,
     "start_time": "2024-04-26T06:36:56.157067",
     "status": "completed"
    },
    "tags": []
   },
   "outputs": [
    {
     "data": {
      "text/plain": [
       "149.56953642384107"
      ]
     },
     "execution_count": 16,
     "metadata": {},
     "output_type": "execute_result"
    }
   ],
   "source": [
    "mean_over = data['thalach'].mean()\n",
    "mean_over #overall mean for max- heart rate"
   ]
  },
  {
   "cell_type": "code",
   "execution_count": 17,
   "id": "12537d07",
   "metadata": {
    "execution": {
     "iopub.execute_input": "2024-04-26T06:36:56.211114Z",
     "iopub.status.busy": "2024-04-26T06:36:56.210628Z",
     "iopub.status.idle": "2024-04-26T06:36:56.219983Z",
     "shell.execute_reply": "2024-04-26T06:36:56.218751Z"
    },
    "papermill": {
     "duration": 0.026915,
     "end_time": "2024-04-26T06:36:56.222115",
     "exception": false,
     "start_time": "2024-04-26T06:36:56.195200",
     "status": "completed"
    },
    "tags": []
   },
   "outputs": [
    {
     "name": "stdout",
     "output_type": "stream",
     "text": [
      "highest max heart rate : 202\n",
      "average max heart rate : 158.3780487804878\n",
      "lowest max heart rate : 96\n",
      "values higher than mean : 92\n"
     ]
    }
   ],
   "source": [
    "df3 = data.loc[data.target == 1]  #seprating it with target ==1 and 0 which will have different means and max, min \n",
    "mean1 = df3['thalach'].mean()\n",
    "maxi = df3['thalach'].max()\n",
    "mini = df3['thalach'].min()\n",
    "\n",
    "count = len(df3.loc[df3.thalach >= mean1]) # number of rates which are higher than mean (counts)\n",
    "print(\"highest max heart rate :\", maxi)\n",
    "print(\"average max heart rate :\", mean1)\n",
    "print(\"lowest max heart rate :\", mini)\n",
    "print(\"values higher than mean :\", count)"
   ]
  },
  {
   "cell_type": "code",
   "execution_count": 18,
   "id": "ae4f9f66",
   "metadata": {
    "execution": {
     "iopub.execute_input": "2024-04-26T06:36:56.250939Z",
     "iopub.status.busy": "2024-04-26T06:36:56.250256Z",
     "iopub.status.idle": "2024-04-26T06:36:56.258683Z",
     "shell.execute_reply": "2024-04-26T06:36:56.257643Z"
    },
    "papermill": {
     "duration": 0.025689,
     "end_time": "2024-04-26T06:36:56.261265",
     "exception": false,
     "start_time": "2024-04-26T06:36:56.235576",
     "status": "completed"
    },
    "tags": []
   },
   "outputs": [
    {
     "name": "stdout",
     "output_type": "stream",
     "text": [
      "highest max heart rate : 195\n",
      "average max heart rate : 139.1014492753623\n",
      "lowest max heart rate : 71\n",
      "values higher than mean : 30\n"
     ]
    }
   ],
   "source": [
    "df13 = data.loc[data.target == 0] #same way for non heart attack or traget==0\n",
    "mean = df13['thalach'].mean()\n",
    "maxi = df13['thalach'].max()\n",
    "mini = df13['thalach'].min()\n",
    "count = len(df13.loc[df13.thalach >= mean1])\n",
    "print(\"highest max heart rate :\", maxi)\n",
    "print(\"average max heart rate :\", mean)\n",
    "print(\"lowest max heart rate :\", mini)\n",
    "print(\"values higher than mean :\", count)\n",
    "#now here i want to create a scatterplot for comparision but unfortunaelty I couldn't rn! code error"
   ]
  },
  {
   "cell_type": "code",
   "execution_count": 19,
   "id": "29cbea54",
   "metadata": {
    "execution": {
     "iopub.execute_input": "2024-04-26T06:36:56.344179Z",
     "iopub.status.busy": "2024-04-26T06:36:56.343821Z",
     "iopub.status.idle": "2024-04-26T06:36:56.356055Z",
     "shell.execute_reply": "2024-04-26T06:36:56.354933Z"
    },
    "papermill": {
     "duration": 0.029333,
     "end_time": "2024-04-26T06:36:56.358250",
     "exception": false,
     "start_time": "2024-04-26T06:36:56.328917",
     "status": "completed"
    },
    "tags": []
   },
   "outputs": [
    {
     "data": {
      "text/html": [
       "<div>\n",
       "<style scoped>\n",
       "    .dataframe tbody tr th:only-of-type {\n",
       "        vertical-align: middle;\n",
       "    }\n",
       "\n",
       "    .dataframe tbody tr th {\n",
       "        vertical-align: top;\n",
       "    }\n",
       "\n",
       "    .dataframe thead th {\n",
       "        text-align: right;\n",
       "    }\n",
       "</style>\n",
       "<table border=\"1\" class=\"dataframe\">\n",
       "  <thead>\n",
       "    <tr style=\"text-align: right;\">\n",
       "      <th></th>\n",
       "      <th>slope</th>\n",
       "      <th>counts</th>\n",
       "    </tr>\n",
       "  </thead>\n",
       "  <tbody>\n",
       "    <tr>\n",
       "      <th>2</th>\n",
       "      <td>0</td>\n",
       "      <td>9</td>\n",
       "    </tr>\n",
       "    <tr>\n",
       "      <th>1</th>\n",
       "      <td>1</td>\n",
       "      <td>49</td>\n",
       "    </tr>\n",
       "    <tr>\n",
       "      <th>0</th>\n",
       "      <td>2</td>\n",
       "      <td>106</td>\n",
       "    </tr>\n",
       "  </tbody>\n",
       "</table>\n",
       "</div>"
      ],
      "text/plain": [
       "   slope  counts\n",
       "2      0       9\n",
       "1      1      49\n",
       "0      2     106"
      ]
     },
     "execution_count": 19,
     "metadata": {},
     "output_type": "execute_result"
    }
   ],
   "source": [
    "df4 = data.loc[data.target == 1]\n",
    "df44 = df4['slope'].value_counts().rename_axis('slope').reset_index(name='counts').sort_values(by ='slope')\n",
    "df44"
   ]
  },
  {
   "cell_type": "code",
   "execution_count": 20,
   "id": "b5276c98",
   "metadata": {
    "execution": {
     "iopub.execute_input": "2024-04-26T06:36:56.387428Z",
     "iopub.status.busy": "2024-04-26T06:36:56.387062Z",
     "iopub.status.idle": "2024-04-26T06:36:56.400024Z",
     "shell.execute_reply": "2024-04-26T06:36:56.398983Z"
    },
    "papermill": {
     "duration": 0.03011,
     "end_time": "2024-04-26T06:36:56.402182",
     "exception": false,
     "start_time": "2024-04-26T06:36:56.372072",
     "status": "completed"
    },
    "tags": []
   },
   "outputs": [
    {
     "data": {
      "text/html": [
       "<div>\n",
       "<style scoped>\n",
       "    .dataframe tbody tr th:only-of-type {\n",
       "        vertical-align: middle;\n",
       "    }\n",
       "\n",
       "    .dataframe tbody tr th {\n",
       "        vertical-align: top;\n",
       "    }\n",
       "\n",
       "    .dataframe thead th {\n",
       "        text-align: right;\n",
       "    }\n",
       "</style>\n",
       "<table border=\"1\" class=\"dataframe\">\n",
       "  <thead>\n",
       "    <tr style=\"text-align: right;\">\n",
       "      <th></th>\n",
       "      <th>slope</th>\n",
       "      <th>counts</th>\n",
       "    </tr>\n",
       "  </thead>\n",
       "  <tbody>\n",
       "    <tr>\n",
       "      <th>2</th>\n",
       "      <td>0</td>\n",
       "      <td>12</td>\n",
       "    </tr>\n",
       "    <tr>\n",
       "      <th>0</th>\n",
       "      <td>1</td>\n",
       "      <td>91</td>\n",
       "    </tr>\n",
       "    <tr>\n",
       "      <th>1</th>\n",
       "      <td>2</td>\n",
       "      <td>35</td>\n",
       "    </tr>\n",
       "  </tbody>\n",
       "</table>\n",
       "</div>"
      ],
      "text/plain": [
       "   slope  counts\n",
       "2      0      12\n",
       "0      1      91\n",
       "1      2      35"
      ]
     },
     "execution_count": 20,
     "metadata": {},
     "output_type": "execute_result"
    }
   ],
   "source": [
    "df14 = data.loc[data.target == 0]\n",
    "df144 = df14['slope'].value_counts().rename_axis('slope').reset_index(name='counts').sort_values(by ='slope')\n",
    "df144"
   ]
  },
  {
   "cell_type": "code",
   "execution_count": 21,
   "id": "3eecbbc4",
   "metadata": {
    "execution": {
     "iopub.execute_input": "2024-04-26T06:36:56.432542Z",
     "iopub.status.busy": "2024-04-26T06:36:56.431628Z",
     "iopub.status.idle": "2024-04-26T06:36:56.636103Z",
     "shell.execute_reply": "2024-04-26T06:36:56.634936Z"
    },
    "papermill": {
     "duration": 0.221946,
     "end_time": "2024-04-26T06:36:56.638344",
     "exception": false,
     "start_time": "2024-04-26T06:36:56.416398",
     "status": "completed"
    },
    "tags": []
   },
   "outputs": [
    {
     "data": {
      "image/png": "[encoded data removed]",
      "text/plain": [
       "<Figure size 640x480 with 1 Axes>"
      ]
     },
     "metadata": {},
     "output_type": "display_data"
    }
   ],
   "source": [
    "df44.plot(x=\"slope\", y='counts', kind='bar') #value 2 is the risk of heart attack\n",
    "plt.xlabel('Slope')\n",
    "plt.ylabel('Number of people')\n",
    "plt.title('Count of different ST when people are suffering from heart attack')\n",
    "plt.show()\n",
    "\n",
    "# count 2 is dangerous so  we are actually calculating that if a person is having a heart attack what is the value of slope\n",
    "# the count on value 2 is maximum which we can say that value 2 is the reason / symptom of heart attack "
   ]
  },
  {
   "cell_type": "code",
   "execution_count": 22,
   "id": "a9688c05",
   "metadata": {
    "execution": {
     "iopub.execute_input": "2024-04-26T06:36:56.668661Z",
     "iopub.status.busy": "2024-04-26T06:36:56.668268Z",
     "iopub.status.idle": "2024-04-26T06:36:56.900830Z",
     "shell.execute_reply": "2024-04-26T06:36:56.899736Z"
    },
    "papermill": {
     "duration": 0.250624,
     "end_time": "2024-04-26T06:36:56.903336",
     "exception": false,
     "start_time": "2024-04-26T06:36:56.652712",
     "status": "completed"
    },
    "tags": []
   },
   "outputs": [
    {
     "data": {
      "image/png": "[encoded data removed]",
      "text/plain": [
       "<Figure size 640x480 with 1 Axes>"
      ]
     },
     "metadata": {},
     "output_type": "display_data"
    }
   ],
   "source": [
    "df144.plot(x=\"slope\", y='counts', kind='bar') #value 1 is the normal condition for any person \n",
    "plt.xlabel('Slope')\n",
    "plt.ylabel('Number of people')\n",
    "plt.title('Count of different ST when people are not suffering from heart attack')\n",
    "plt.show()"
   ]
  },
  {
   "cell_type": "markdown",
   "id": "17d1ff2e",
   "metadata": {
    "papermill": {
     "duration": 0.015577,
     "end_time": "2024-04-26T06:36:56.934344",
     "exception": false,
     "start_time": "2024-04-26T06:36:56.918767",
     "status": "completed"
    },
    "tags": []
   },
   "source": [
    "# Slope of ST segement vs Target\n",
    "\n",
    "The slope of the peak exercise ST segment is an important parameter in assessing heart health. Let me break it down for you:\n",
    "\n",
    "1. **Upsloping (Value 0):** This indicates a better heart rate response during exercise. It’s considered typical for a healthy heart. The ST segment slopes sharply upwards.\n",
    "2. **Flat (Value 1):** A flat ST segment suggests minimal change during exercise. While not alarming, it’s worth monitoring.\n",
    "3. **Downsloping (Value 2):** People with a downsloping ST segment (signs of an unhealthy heart) are more likely to have heart disease. This pattern indicates potential issues and requires attention"
   ]
  },
  {
   "cell_type": "code",
   "execution_count": 23,
   "id": "afca0855",
   "metadata": {
    "execution": {
     "iopub.execute_input": "2024-04-26T06:36:56.967596Z",
     "iopub.status.busy": "2024-04-26T06:36:56.967165Z",
     "iopub.status.idle": "2024-04-26T06:36:56.975989Z",
     "shell.execute_reply": "2024-04-26T06:36:56.974944Z"
    },
    "papermill": {
     "duration": 0.028189,
     "end_time": "2024-04-26T06:36:56.978120",
     "exception": false,
     "start_time": "2024-04-26T06:36:56.949931",
     "status": "completed"
    },
    "tags": []
   },
   "outputs": [],
   "source": [
    "data1 = data.loc[data.target == 0]\n",
    "data2 = data.loc[data.target == 1]\n",
    "x1 = data1['thalach'].to_frame()\n",
    "y1 = data1['thalach'].to_frame()\n",
    "x2 = data2['thalach'].to_frame()\n",
    "y2 = data2['thalach'].to_frame()"
   ]
  },
  {
   "cell_type": "code",
   "execution_count": 24,
   "id": "ff1e71b7",
   "metadata": {
    "execution": {
     "iopub.execute_input": "2024-04-26T06:36:57.011446Z",
     "iopub.status.busy": "2024-04-26T06:36:57.011046Z",
     "iopub.status.idle": "2024-04-26T06:36:57.016758Z",
     "shell.execute_reply": "2024-04-26T06:36:57.015574Z"
    },
    "papermill": {
     "duration": 0.024732,
     "end_time": "2024-04-26T06:36:57.019021",
     "exception": false,
     "start_time": "2024-04-26T06:36:56.994289",
     "status": "completed"
    },
    "tags": []
   },
   "outputs": [],
   "source": [
    "x_full = data1.thalach\n",
    "x1_full = data2.thalach\n",
    "y_full = data1.target\n",
    "y1_full = data2.target"
   ]
  },
  {
   "cell_type": "code",
   "execution_count": 25,
   "id": "530ac9f1",
   "metadata": {
    "execution": {
     "iopub.execute_input": "2024-04-26T06:36:57.050872Z",
     "iopub.status.busy": "2024-04-26T06:36:57.050505Z",
     "iopub.status.idle": "2024-04-26T06:36:57.462948Z",
     "shell.execute_reply": "2024-04-26T06:36:57.461761Z"
    },
    "papermill": {
     "duration": 0.430962,
     "end_time": "2024-04-26T06:36:57.465188",
     "exception": false,
     "start_time": "2024-04-26T06:36:57.034226",
     "status": "completed"
    },
    "tags": []
   },
   "outputs": [
    {
     "data": {
      "text/plain": [
       "Text(0, 0.5, 'Y-axis')"
      ]
     },
     "execution_count": 25,
     "metadata": {},
     "output_type": "execute_result"
    },
    {
     "data": {
      "image/png": "[encoded data removed]",
      "text/plain": [
       "<Figure size 640x480 with 2 Axes>"
      ]
     },
     "metadata": {},
     "output_type": "display_data"
    }
   ],
   "source": [
    "plt.scatter(x_full, y_full, c='g', s=100, alpha=0.8)\n",
    "plt.scatter(x1_full, y1_full, c='r', s=100, alpha=0.8)\n",
    " \n",
    "# Add color bar for reference\n",
    "cbar = plt.colorbar()\n",
    "cbar.set_label('Color Value')\n",
    " \n",
    "# Set plot title and labels\n",
    "plt.title('Scatter Plot with Color Mapping')\n",
    "plt.xlabel('X-axis')\n",
    "plt.ylabel('Y-axis')"
   ]
  },
  {
   "cell_type": "code",
   "execution_count": 26,
   "id": "323d78c4",
   "metadata": {
    "execution": {
     "iopub.execute_input": "2024-04-26T06:36:57.499602Z",
     "iopub.status.busy": "2024-04-26T06:36:57.499193Z",
     "iopub.status.idle": "2024-04-26T06:36:57.509227Z",
     "shell.execute_reply": "2024-04-26T06:36:57.508240Z"
    },
    "papermill": {
     "duration": 0.030036,
     "end_time": "2024-04-26T06:36:57.511345",
     "exception": false,
     "start_time": "2024-04-26T06:36:57.481309",
     "status": "completed"
    },
    "tags": []
   },
   "outputs": [
    {
     "data": {
      "text/html": [
       "<div>\n",
       "<style scoped>\n",
       "    .dataframe tbody tr th:only-of-type {\n",
       "        vertical-align: middle;\n",
       "    }\n",
       "\n",
       "    .dataframe tbody tr th {\n",
       "        vertical-align: top;\n",
       "    }\n",
       "\n",
       "    .dataframe thead th {\n",
       "        text-align: right;\n",
       "    }\n",
       "</style>\n",
       "<table border=\"1\" class=\"dataframe\">\n",
       "  <thead>\n",
       "    <tr style=\"text-align: right;\">\n",
       "      <th></th>\n",
       "      <th>thalach</th>\n",
       "    </tr>\n",
       "  </thead>\n",
       "  <tbody>\n",
       "    <tr>\n",
       "      <th>165</th>\n",
       "      <td>108</td>\n",
       "    </tr>\n",
       "    <tr>\n",
       "      <th>166</th>\n",
       "      <td>129</td>\n",
       "    </tr>\n",
       "    <tr>\n",
       "      <th>167</th>\n",
       "      <td>160</td>\n",
       "    </tr>\n",
       "    <tr>\n",
       "      <th>168</th>\n",
       "      <td>147</td>\n",
       "    </tr>\n",
       "    <tr>\n",
       "      <th>169</th>\n",
       "      <td>155</td>\n",
       "    </tr>\n",
       "    <tr>\n",
       "      <th>...</th>\n",
       "      <td>...</td>\n",
       "    </tr>\n",
       "    <tr>\n",
       "      <th>298</th>\n",
       "      <td>123</td>\n",
       "    </tr>\n",
       "    <tr>\n",
       "      <th>299</th>\n",
       "      <td>132</td>\n",
       "    </tr>\n",
       "    <tr>\n",
       "      <th>300</th>\n",
       "      <td>141</td>\n",
       "    </tr>\n",
       "    <tr>\n",
       "      <th>301</th>\n",
       "      <td>115</td>\n",
       "    </tr>\n",
       "    <tr>\n",
       "      <th>302</th>\n",
       "      <td>174</td>\n",
       "    </tr>\n",
       "  </tbody>\n",
       "</table>\n",
       "<p>138 rows × 1 columns</p>\n",
       "</div>"
      ],
      "text/plain": [
       "     thalach\n",
       "165      108\n",
       "166      129\n",
       "167      160\n",
       "168      147\n",
       "169      155\n",
       "..       ...\n",
       "298      123\n",
       "299      132\n",
       "300      141\n",
       "301      115\n",
       "302      174\n",
       "\n",
       "[138 rows x 1 columns]"
      ]
     },
     "execution_count": 26,
     "metadata": {},
     "output_type": "execute_result"
    }
   ],
   "source": [
    "x1"
   ]
  },
  {
   "cell_type": "code",
   "execution_count": 27,
   "id": "f34436b2",
   "metadata": {
    "execution": {
     "iopub.execute_input": "2024-04-26T06:36:57.544061Z",
     "iopub.status.busy": "2024-04-26T06:36:57.543709Z",
     "iopub.status.idle": "2024-04-26T06:36:57.953676Z",
     "shell.execute_reply": "2024-04-26T06:36:57.952496Z"
    },
    "papermill": {
     "duration": 0.429208,
     "end_time": "2024-04-26T06:36:57.956177",
     "exception": false,
     "start_time": "2024-04-26T06:36:57.526969",
     "status": "completed"
    },
    "tags": []
   },
   "outputs": [
    {
     "data": {
      "text/plain": [
       "Text(0, 0.5, 'Y-axis')"
      ]
     },
     "execution_count": 27,
     "metadata": {},
     "output_type": "execute_result"
    },
    {
     "data": {
      "image/png": "[encoded data removed]",
      "text/plain": [
       "<Figure size 640x480 with 2 Axes>"
      ]
     },
     "metadata": {},
     "output_type": "display_data"
    }
   ],
   "source": [
    "# Create a scatter plot with color mapping\n",
    "plt.scatter(x1, y1, c='g', s=100, alpha=0.8)\n",
    "plt.scatter(x2, y2, c='r', s=100, alpha=0.8)\n",
    " \n",
    "# Add color bar for reference\n",
    "cbar = plt.colorbar()\n",
    "cbar.set_label('Color Value')\n",
    " \n",
    "# Set plot title and labels\n",
    "plt.title('Scatter Plot with Color Mapping')\n",
    "plt.xlabel('X-axis')\n",
    "plt.ylabel('Y-axis')"
   ]
  },
  {
   "cell_type": "code",
   "execution_count": 28,
   "id": "cf5e72b5",
   "metadata": {
    "execution": {
     "iopub.execute_input": "2024-04-26T06:36:57.991485Z",
     "iopub.status.busy": "2024-04-26T06:36:57.991092Z",
     "iopub.status.idle": "2024-04-26T06:36:57.998649Z",
     "shell.execute_reply": "2024-04-26T06:36:57.997591Z"
    },
    "papermill": {
     "duration": 0.028283,
     "end_time": "2024-04-26T06:36:58.001056",
     "exception": false,
     "start_time": "2024-04-26T06:36:57.972773",
     "status": "completed"
    },
    "tags": []
   },
   "outputs": [],
   "source": [
    "#df00 = pd.merge(data1, data2, on='thalach', how='left')\n",
    "df00 = data1[~data1.thalach.isin(data2.thalach)]\n",
    "df01 = data2[~data2.thalach.isin(data1.thalach)]\n",
    "x11 = df00['thalach']\n",
    "y11 = df00['target']\n",
    "x12 = df01['thalach']\n",
    "y12 = df01['target']"
   ]
  },
  {
   "cell_type": "code",
   "execution_count": 29,
   "id": "671a0a66",
   "metadata": {
    "execution": {
     "iopub.execute_input": "2024-04-26T06:36:58.036769Z",
     "iopub.status.busy": "2024-04-26T06:36:58.036360Z",
     "iopub.status.idle": "2024-04-26T06:36:58.449147Z",
     "shell.execute_reply": "2024-04-26T06:36:58.448037Z"
    },
    "papermill": {
     "duration": 0.433439,
     "end_time": "2024-04-26T06:36:58.451563",
     "exception": false,
     "start_time": "2024-04-26T06:36:58.018124",
     "status": "completed"
    },
    "tags": []
   },
   "outputs": [
    {
     "data": {
      "text/plain": [
       "Text(0, 0.5, 'Y-axis')"
      ]
     },
     "execution_count": 29,
     "metadata": {},
     "output_type": "execute_result"
    },
    {
     "data": {
      "image/png": "[encoded data removed]",
      "text/plain": [
       "<Figure size 640x480 with 2 Axes>"
      ]
     },
     "metadata": {},
     "output_type": "display_data"
    }
   ],
   "source": [
    "# Create a scatter plot with color mapping\n",
    "plt.scatter(x11, y11, c='g', s=100, alpha=0.8)\n",
    "plt.scatter(x12, y12, c='r', s=100, alpha=0.8)\n",
    " \n",
    "# Add color bar for reference\n",
    "cbar = plt.colorbar()\n",
    "cbar.set_label('Color Value')\n",
    " \n",
    "# Set plot title and labels\n",
    "plt.title('Scatter Plot with Color Mapping')\n",
    "plt.xlabel('X-axis')\n",
    "plt.ylabel('Y-axis')"
   ]
  },
  {
   "cell_type": "code",
   "execution_count": 30,
   "id": "f37fa870",
   "metadata": {
    "execution": {
     "iopub.execute_input": "2024-04-26T06:36:58.489072Z",
     "iopub.status.busy": "2024-04-26T06:36:58.488718Z",
     "iopub.status.idle": "2024-04-26T06:36:58.494779Z",
     "shell.execute_reply": "2024-04-26T06:36:58.493746Z"
    },
    "papermill": {
     "duration": 0.027062,
     "end_time": "2024-04-26T06:36:58.496941",
     "exception": false,
     "start_time": "2024-04-26T06:36:58.469879",
     "status": "completed"
    },
    "tags": []
   },
   "outputs": [],
   "source": [
    "dem0 = x11.loc[x11>150]\n",
    "dem1 = x12.loc[x12<150]"
   ]
  },
  {
   "cell_type": "code",
   "execution_count": 31,
   "id": "1e9c6f8f",
   "metadata": {
    "execution": {
     "iopub.execute_input": "2024-04-26T06:36:58.533558Z",
     "iopub.status.busy": "2024-04-26T06:36:58.533163Z",
     "iopub.status.idle": "2024-04-26T06:36:58.542931Z",
     "shell.execute_reply": "2024-04-26T06:36:58.540186Z"
    },
    "papermill": {
     "duration": 0.031767,
     "end_time": "2024-04-26T06:36:58.545902",
     "exception": false,
     "start_time": "2024-04-26T06:36:58.514135",
     "status": "completed"
    },
    "tags": []
   },
   "outputs": [
    {
     "data": {
      "text/plain": [
       "200    177\n",
       "248    195\n",
       "Name: thalach, dtype: int64"
      ]
     },
     "execution_count": 31,
     "metadata": {},
     "output_type": "execute_result"
    }
   ],
   "source": [
    "dem0"
   ]
  },
  {
   "cell_type": "code",
   "execution_count": 32,
   "id": "2cc92c4d",
   "metadata": {
    "execution": {
     "iopub.execute_input": "2024-04-26T06:36:58.596391Z",
     "iopub.status.busy": "2024-04-26T06:36:58.596005Z",
     "iopub.status.idle": "2024-04-26T06:36:58.605455Z",
     "shell.execute_reply": "2024-04-26T06:36:58.604088Z"
    },
    "papermill": {
     "duration": 0.03725,
     "end_time": "2024-04-26T06:36:58.608459",
     "exception": false,
     "start_time": "2024-04-26T06:36:58.571209",
     "status": "completed"
    },
    "tags": []
   },
   "outputs": [
    {
     "data": {
      "text/plain": [
       "5      148\n",
       "23     137\n",
       "38     148\n",
       "42     148\n",
       "50     149\n",
       "129    121\n",
       "146    149\n",
       "Name: thalach, dtype: int64"
      ]
     },
     "execution_count": 32,
     "metadata": {},
     "output_type": "execute_result"
    }
   ],
   "source": [
    "dem1"
   ]
  },
  {
   "cell_type": "code",
   "execution_count": 33,
   "id": "3cf33a3e",
   "metadata": {
    "execution": {
     "iopub.execute_input": "2024-04-26T06:36:58.648532Z",
     "iopub.status.busy": "2024-04-26T06:36:58.648152Z",
     "iopub.status.idle": "2024-04-26T06:36:58.655888Z",
     "shell.execute_reply": "2024-04-26T06:36:58.654683Z"
    },
    "papermill": {
     "duration": 0.031693,
     "end_time": "2024-04-26T06:36:58.658299",
     "exception": false,
     "start_time": "2024-04-26T06:36:58.626606",
     "status": "completed"
    },
    "tags": []
   },
   "outputs": [
    {
     "name": "stdout",
     "output_type": "stream",
     "text": [
      "median for target == 0: 117.0\n",
      "median for target == 1: 176.5\n",
      "mean for target == 0: 119.0\n",
      "mean for target == 1: 171.3409090909091\n"
     ]
    }
   ],
   "source": [
    "med1 = x11.median()\n",
    "med2 = x12.median()\n",
    "mean1 = x11.mean()\n",
    "mean2 = x12.mean()\n",
    "print(\"median for target == 0:\", med1)\n",
    "print(\"median for target == 1:\", med2)\n",
    "print(\"mean for target == 0:\", mean1)\n",
    "print(\"mean for target == 1:\", mean2)"
   ]
  },
  {
   "cell_type": "markdown",
   "id": "9e247137",
   "metadata": {
    "papermill": {
     "duration": 0.017369,
     "end_time": "2024-04-26T06:36:58.693890",
     "exception": false,
     "start_time": "2024-04-26T06:36:58.676521",
     "status": "completed"
    },
    "tags": []
   },
   "source": [
    "# Model Training and Pre Processing"
   ]
  },
  {
   "cell_type": "code",
   "execution_count": 34,
   "id": "9efd4c63",
   "metadata": {
    "execution": {
     "iopub.execute_input": "2024-04-26T06:36:58.730912Z",
     "iopub.status.busy": "2024-04-26T06:36:58.730390Z",
     "iopub.status.idle": "2024-04-26T06:36:59.013832Z",
     "shell.execute_reply": "2024-04-26T06:36:59.011878Z"
    },
    "papermill": {
     "duration": 0.306595,
     "end_time": "2024-04-26T06:36:59.018211",
     "exception": false,
     "start_time": "2024-04-26T06:36:58.711616",
     "status": "completed"
    },
    "tags": []
   },
   "outputs": [],
   "source": [
    "from sklearn.model_selection import train_test_split\n",
    "from sklearn.preprocessing import StandardScaler\n",
    "from sklearn.metrics import mean_absolute_error\n",
    "from sklearn.metrics import accuracy_score"
   ]
  },
  {
   "cell_type": "code",
   "execution_count": 35,
   "id": "f8d0e265",
   "metadata": {
    "execution": {
     "iopub.execute_input": "2024-04-26T06:36:59.056542Z",
     "iopub.status.busy": "2024-04-26T06:36:59.056041Z",
     "iopub.status.idle": "2024-04-26T06:36:59.066051Z",
     "shell.execute_reply": "2024-04-26T06:36:59.064638Z"
    },
    "papermill": {
     "duration": 0.031978,
     "end_time": "2024-04-26T06:36:59.068889",
     "exception": false,
     "start_time": "2024-04-26T06:36:59.036911",
     "status": "completed"
    },
    "tags": []
   },
   "outputs": [
    {
     "data": {
      "text/plain": [
       "Index(['age', 'sex', 'cp', 'trestbps', 'chol', 'fbs', 'restecg', 'thalach',\n",
       "       'exang', 'oldpeak', 'slope', 'ca', 'thal', 'target'],\n",
       "      dtype='object')"
      ]
     },
     "execution_count": 35,
     "metadata": {},
     "output_type": "execute_result"
    }
   ],
   "source": [
    "data.columns"
   ]
  },
  {
   "cell_type": "code",
   "execution_count": 36,
   "id": "23b31fd5",
   "metadata": {
    "execution": {
     "iopub.execute_input": "2024-04-26T06:36:59.105695Z",
     "iopub.status.busy": "2024-04-26T06:36:59.105280Z",
     "iopub.status.idle": "2024-04-26T06:36:59.115236Z",
     "shell.execute_reply": "2024-04-26T06:36:59.114147Z"
    },
    "papermill": {
     "duration": 0.030993,
     "end_time": "2024-04-26T06:36:59.117581",
     "exception": false,
     "start_time": "2024-04-26T06:36:59.086588",
     "status": "completed"
    },
    "tags": []
   },
   "outputs": [],
   "source": [
    "df_train, df_test = train_test_split(data, test_size=0.20, random_state = 20)\n",
    "train_X = data.drop(\"target\", axis=1)\n",
    "train_y = data.target\n",
    "val_X = df_test\n",
    "val_y = df_test.pop('target')"
   ]
  },
  {
   "cell_type": "code",
   "execution_count": 37,
   "id": "ad58a706",
   "metadata": {
    "execution": {
     "iopub.execute_input": "2024-04-26T06:36:59.155985Z",
     "iopub.status.busy": "2024-04-26T06:36:59.154876Z",
     "iopub.status.idle": "2024-04-26T06:36:59.298411Z",
     "shell.execute_reply": "2024-04-26T06:36:59.297231Z"
    },
    "papermill": {
     "duration": 0.165782,
     "end_time": "2024-04-26T06:36:59.301381",
     "exception": false,
     "start_time": "2024-04-26T06:36:59.135599",
     "status": "completed"
    },
    "tags": []
   },
   "outputs": [
    {
     "name": "stdout",
     "output_type": "stream",
     "text": [
      "Linear Regression Model Training Score:  0.8609271523178808\n",
      "Logistic testing accuracy is  90.0 %\n"
     ]
    },
    {
     "name": "stderr",
     "output_type": "stream",
     "text": [
      "/opt/conda/lib/python3.10/site-packages/sklearn/linear_model/_logistic.py:458: ConvergenceWarning: lbfgs failed to converge (status=1):\n",
      "STOP: TOTAL NO. of ITERATIONS REACHED LIMIT.\n",
      "\n",
      "Increase the number of iterations (max_iter) or scale the data as shown in:\n",
      "    https://scikit-learn.org/stable/modules/preprocessing.html\n",
      "Please also refer to the documentation for alternative solver options:\n",
      "    https://scikit-learn.org/stable/modules/linear_model.html#logistic-regression\n",
      "  n_iter_i = _check_optimize_result(\n"
     ]
    }
   ],
   "source": [
    "from sklearn.linear_model import LogisticRegression\n",
    "reg_model = LogisticRegression()\n",
    "reg_model.fit(train_X,train_y)\n",
    "pred = reg_model.predict(val_X)\n",
    "#print(mean_absolute_error(train_y,pred))\n",
    "print(\"Linear Regression Model Training Score: \", reg_model.score(train_X, train_y))\n",
    "accuracy= accuracy_score(val_y,pred)\n",
    "print (\"Logistic testing accuracy is \", round(accuracy,2) * 100, \"%\")"
   ]
  },
  {
   "cell_type": "code",
   "execution_count": 38,
   "id": "25553927",
   "metadata": {
    "execution": {
     "iopub.execute_input": "2024-04-26T06:36:59.339576Z",
     "iopub.status.busy": "2024-04-26T06:36:59.339074Z",
     "iopub.status.idle": "2024-04-26T06:36:59.924124Z",
     "shell.execute_reply": "2024-04-26T06:36:59.922520Z"
    },
    "papermill": {
     "duration": 0.60643,
     "end_time": "2024-04-26T06:36:59.926480",
     "exception": false,
     "start_time": "2024-04-26T06:36:59.320050",
     "status": "completed"
    },
    "tags": []
   },
   "outputs": [
    {
     "name": "stdout",
     "output_type": "stream",
     "text": [
      "Learning rate set to 0.174772\n",
      "0:\tlearn: 0.6374848\ttest: 0.6314685\tbest: 0.6314685 (0)\ttotal: 54.1ms\tremaining: 486ms\n",
      "1:\tlearn: 0.5942067\ttest: 0.5812287\tbest: 0.5812287 (1)\ttotal: 54.7ms\tremaining: 219ms\n",
      "2:\tlearn: 0.5600233\ttest: 0.5368104\tbest: 0.5368104 (2)\ttotal: 55.3ms\tremaining: 129ms\n",
      "3:\tlearn: 0.5298111\ttest: 0.5009951\tbest: 0.5009951 (3)\ttotal: 55.9ms\tremaining: 83.8ms\n",
      "4:\tlearn: 0.5024577\ttest: 0.4708312\tbest: 0.4708312 (4)\ttotal: 56.5ms\tremaining: 56.5ms\n",
      "5:\tlearn: 0.4789970\ttest: 0.4431494\tbest: 0.4431494 (5)\ttotal: 57.1ms\tremaining: 38.1ms\n",
      "6:\tlearn: 0.4575063\ttest: 0.4158503\tbest: 0.4158503 (6)\ttotal: 57.7ms\tremaining: 24.7ms\n",
      "7:\tlearn: 0.4430358\ttest: 0.4009265\tbest: 0.4009265 (7)\ttotal: 58.2ms\tremaining: 14.5ms\n",
      "8:\tlearn: 0.4310024\ttest: 0.3881278\tbest: 0.3881278 (8)\ttotal: 58.7ms\tremaining: 6.53ms\n",
      "9:\tlearn: 0.4171768\ttest: 0.3728349\tbest: 0.3728349 (9)\ttotal: 59.3ms\tremaining: 0us\n",
      "\n",
      "bestTest = 0.3728349194\n",
      "bestIteration = 9\n",
      "\n",
      "0.10927152317880795\n",
      "CatBoost Model Training Score:  0.890728476821192\n"
     ]
    }
   ],
   "source": [
    "from catboost import CatBoostClassifier\n",
    "clf = CatBoostClassifier( iterations=10)\n",
    "\n",
    "clf.fit(train_X, train_y,eval_set=(val_X, val_y))\n",
    "pred = clf.predict(train_X)\n",
    "print(mean_absolute_error(train_y,pred))\n",
    "print(\"CatBoost Model Training Score: \", clf.score(train_X, train_y))"
   ]
  },
  {
   "cell_type": "code",
   "execution_count": 39,
   "id": "1dfc9e73",
   "metadata": {
    "execution": {
     "iopub.execute_input": "2024-04-26T06:36:59.964395Z",
     "iopub.status.busy": "2024-04-26T06:36:59.964015Z",
     "iopub.status.idle": "2024-04-26T06:36:59.968869Z",
     "shell.execute_reply": "2024-04-26T06:36:59.967758Z"
    },
    "papermill": {
     "duration": 0.026274,
     "end_time": "2024-04-26T06:36:59.971117",
     "exception": false,
     "start_time": "2024-04-26T06:36:59.944843",
     "status": "completed"
    },
    "tags": []
   },
   "outputs": [],
   "source": [
    "# import xgboost as xgb\n",
    "# regressor=xgb.XGBRegressor()\n",
    "\n",
    "# regressor.fit(train_X, train_y)\n",
    "# pred = regressor.predict(train_X)\n",
    "# print(mean_absolute_error(train_y,pred))\n",
    "# print(\"XGBoost Model Training Score: \", regressor.score(train_X, train_y))"
   ]
  },
  {
   "cell_type": "code",
   "execution_count": 40,
   "id": "64c77c15",
   "metadata": {
    "execution": {
     "iopub.execute_input": "2024-04-26T06:37:00.009669Z",
     "iopub.status.busy": "2024-04-26T06:37:00.009253Z",
     "iopub.status.idle": "2024-04-26T06:37:00.123544Z",
     "shell.execute_reply": "2024-04-26T06:37:00.122308Z"
    },
    "papermill": {
     "duration": 0.136393,
     "end_time": "2024-04-26T06:37:00.126190",
     "exception": false,
     "start_time": "2024-04-26T06:36:59.989797",
     "status": "completed"
    },
    "tags": []
   },
   "outputs": [
    {
     "name": "stdout",
     "output_type": "stream",
     "text": [
      "0.15562913907284767\n",
      "Decision Tree Classifier Model Training Score:  0.8443708609271523\n"
     ]
    }
   ],
   "source": [
    "from sklearn.tree import DecisionTreeClassifier\n",
    "dtr=DecisionTreeClassifier(max_depth=3, random_state=0)\n",
    "dtr.fit(train_X,train_y)\n",
    "pred = dtr.predict(train_X)\n",
    "print(mean_absolute_error(train_y,pred))\n",
    "print(\"Decision Tree Classifier Model Training Score: \", dtr.score(train_X,train_y))\n"
   ]
  }
 ],
 "metadata": {
  "kaggle": {
   "accelerator": "none",
   "dataSources": [
    {
     "datasetId": 737503,
     "sourceId": 1278636,
     "sourceType": "datasetVersion"
    }
   ],
   "dockerImageVersionId": 30684,
   "isGpuEnabled": false,
   "isInternetEnabled": true,
   "language": "python",
   "sourceType": "notebook"
  },
  "kernelspec": {
   "display_name": "Python 3",
   "language": "python",
   "name": "python3"
  },
  "language_info": {
   "codemirror_mode": {
    "name": "ipython",
    "version": 3
   },
   "file_extension": ".py",
   "mimetype": "text/x-python",
   "name": "python",
   "nbconvert_exporter": "python",
   "pygments_lexer": "ipython3",
   "version": "3.10.13"
  },
  "papermill": {
   "default_parameters": {},
   "duration": 11.329695,
   "end_time": "2024-04-26T06:37:00.765755",
   "environment_variables": {},
   "exception": null,
   "input_path": "__notebook__.ipynb",
   "output_path": "__notebook__.ipynb",
   "parameters": {},
   "start_time": "2024-04-26T06:36:49.436060",
   "version": "2.5.0"
  }
 },
 "nbformat": 4,
 "nbformat_minor": 5
}
